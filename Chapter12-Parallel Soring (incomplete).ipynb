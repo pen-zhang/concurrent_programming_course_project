{
 "cells": [
  {
   "cell_type": "markdown",
   "metadata": {},
   "source": [
    "## Parallel sorting\n"
   ]
  },
  {
   "cell_type": "markdown",
   "metadata": {},
   "source": [
    "### Sorting network - bitonic sorting algorithm\n",
    "\n",
    "- Bitonic Sequence\n",
    "    - A sequence is called Bitonic if it is first increasing, then decreasing. In other words, an array arr[0..n-i] is Bitonic if there exists an index i where 0<=i<=n-1 such that $$ x0 <= x1 …..<= xi  \\text{ and }  xi >= xi+1….. >= xn-1 $$\n",
    "    \n",
    "  <img src=\"images/Batcher_Bitonic_Mergesort_for_eight_inputs.svg.png\" width=600 />"
   ]
  },
  {
   "cell_type": "code",
   "execution_count": 306,
   "metadata": {},
   "outputs": [
    {
     "name": "stdout",
     "output_type": "stream",
     "text": [
      "Overwriting BitonicSort.java\n"
     ]
    }
   ],
   "source": [
    "%%writefile BitonicSort.java\n",
    "import java.util.concurrent.CyclicBarrier;\n",
    "\n",
    "public class BitonicSort {\n",
    "    \n",
    "    static final int width = 4; // counting network width\n",
    "    static final int depth = 8; // counting network depth\n",
    "    static final int p = 4; // number of threads\n",
    "    static final int s = 1; // p*s is a power of 2\n",
    "    static final int[][][] bitonicTable = new int[p*s*depth][depth][2];\n",
    "\n",
    "    static CyclicBarrier barrier = new CyclicBarrier(p);\n",
    "    static int test_data[]= {3, 7, 4, 8, 6, 2, 1, 5};\n",
    "    \n",
    "    /*\n",
    "    public void generateTable(int[][][] bitonicTable){\n",
    "        for(int d=0; d<depth; d++){\n",
    "            for(int j=0; j<s; j++){\n",
    "                for(int i)\n",
    "                if(d%2==0){\n",
    "                    bitonicTable[][d][0]=\n",
    "                    bitonicTable[(i*s)+j][d][1]=\n",
    "            }\n",
    "        }\n",
    "        \n",
    "    }\n",
    "    */\n",
    "    \n",
    "    public static void sort(int[] items) {\n",
    "        int i = (int) Thread.currentThread().getId();\n",
    "        for (int d = 0; d < depth; d++) {\n",
    "            try{barrier.await();} catch(Exception e){}\n",
    "            for (int j = 0; j < s; j++) {\n",
    "                int north = bitonicTable[(i*s)+j][d][0];\n",
    "                int south = bitonicTable[(i*s)+j][d][1];\n",
    "                //System.out.println(north);\n",
    "                //System.out.println(south);\n",
    "                //System.out.println(\"----\");\n",
    "                if (items[north] < items[south]) {\n",
    "                    System.out.println(items[north] + ','+items[south]);\n",
    "                    int temp = items[north];\n",
    "                    items[north] = items[south];\n",
    "                    items[south] = temp;\n",
    "                    System.out.println(items[north] + ','+items[south]);\n",
    "                }\n",
    "            }\n",
    "        }\n",
    "    } \n",
    "    \n",
    "    static Thread thread(int id) {\n",
    "        return new Thread(() -> {\n",
    "            sort(test_data);\n",
    "        });\n",
    "    }\n",
    "    \n",
    "    public static void main(String[] args){\n",
    "        \n",
    "        System.out.println(\"input:\");\n",
    "        for(int x : test_data){\n",
    "            System.out.print(x);\n",
    "            System.out.print(' ');\n",
    "        }\n",
    "        System.out.println(\"\\n\");\n",
    "        Thread[] t = new Thread[p];\n",
    "        long start = System.currentTimeMillis();\n",
    "        for (int i=0; i<p; i++)\n",
    "          t[i] = thread(i);\n",
    "        for (int i=0; i<p; i++)\n",
    "          t[i].start();\n",
    "        try {\n",
    "        for (int i=0; i<p; i++)\n",
    "          t[i].join();\n",
    "        } catch (InterruptedException e) {}\n",
    "        long stop = System.currentTimeMillis();\n",
    "        \n",
    "        System.out.println(\"output:\");\n",
    "        for(int x : test_data){\n",
    "            System.out.print(x);\n",
    "            System.out.print(' ');\n",
    "        }\n",
    "        System.out.println(\"\\ntime: \"+(stop-start)+\" ms\");\n",
    "        \n",
    "    }\n",
    "    \n",
    "}"
   ]
  },
  {
   "cell_type": "code",
   "execution_count": 307,
   "metadata": {},
   "outputs": [],
   "source": [
    "!javac BitonicSort.java"
   ]
  },
  {
   "cell_type": "code",
   "execution_count": 308,
   "metadata": {},
   "outputs": [
    {
     "name": "stdout",
     "output_type": "stream",
     "text": [
      "input:\n",
      "3 7 4 8 6 2 1 5 \n",
      "\n",
      "output:\n",
      "3 7 4 8 6 2 1 5 \n",
      "time: 9 ms\n"
     ]
    }
   ],
   "source": [
    "!java -ea BitonicSort"
   ]
  },
  {
   "cell_type": "markdown",
   "metadata": {},
   "source": [
    "The BitonicSort takes $O(s log^2 p)$ time for p threads running on p processors, which, if s is constant, is $O(log^2 p)$ time."
   ]
  }
 ],
 "metadata": {
  "kernelspec": {
   "display_name": "Python 3",
   "language": "python",
   "name": "python3"
  },
  "language_info": {
   "codemirror_mode": {
    "name": "ipython",
    "version": 3
   },
   "file_extension": ".py",
   "mimetype": "text/x-python",
   "name": "python",
   "nbconvert_exporter": "python",
   "pygments_lexer": "ipython3",
   "version": "3.8.5"
  }
 },
 "nbformat": 4,
 "nbformat_minor": 4
}
