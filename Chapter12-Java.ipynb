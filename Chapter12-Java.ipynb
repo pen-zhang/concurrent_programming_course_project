{
 "cells": [
  {
   "cell_type": "markdown",
   "metadata": {},
   "source": [
    "Combining Tree"
   ]
  },
  {
   "cell_type": "code",
   "execution_count": 1,
   "metadata": {},
   "outputs": [
    {
     "name": "stdout",
     "output_type": "stream",
     "text": [
      "Overwriting Node.java\n"
     ]
    }
   ],
   "source": [
    "%%writefile Node.java\n",
    "public class Node {\n",
    "    enum CStatus{IDLE, FIRST, SECOND, RESULT, ROOT};\n",
    "    boolean locked;\n",
    "    CStatus cStatus;\n",
    "    int firstValue, secondValue;\n",
    "    int result;\n",
    "    Node parent;\n",
    "    public Node() {\n",
    "        cStatus = CStatus.ROOT;\n",
    "        locked = false;\n",
    "    }\n",
    "    public Node(Node myParent) {\n",
    "        parent = myParent;\n",
    "        cStatus = CStatus.IDLE;\n",
    "        locked = false;\n",
    "    }\n",
    "    \n",
    "    synchronized boolean precombine() throws InterruptedException{\n",
    "        while (locked) wait();\n",
    "        switch (cStatus) {\n",
    "            case IDLE:\n",
    "                cStatus = CStatus.FIRST;\n",
    "                return true;\n",
    "            case FIRST:\n",
    "                locked = true;\n",
    "                cStatus = CStatus.SECOND;\n",
    "                return false;\n",
    "            case ROOT:\n",
    "                return false;\n",
    "            default:\n",
    "                throw new InterruptedException(\"unexpected Node state\" + cStatus);\n",
    "        }\n",
    "    }\n",
    "    \n",
    "    synchronized int combine(int combined) throws InterruptedException{\n",
    "        while (locked) wait();\n",
    "        locked = true;\n",
    "        firstValue = combined;\n",
    "        switch (cStatus) {\n",
    "            case FIRST:\n",
    "                return firstValue;\n",
    "            case SECOND:\n",
    "                return firstValue + secondValue;\n",
    "            default:\n",
    "                throw new InterruptedException(\"unexpected Node state \" + cStatus);\n",
    "        }\n",
    "    }\n",
    "    \n",
    "    synchronized int op(int combined)  throws InterruptedException{\n",
    "        switch (cStatus) {\n",
    "            case ROOT:\n",
    "                int prior = result;\n",
    "                result += combined;\n",
    "                return prior;\n",
    "            case SECOND:\n",
    "                secondValue = combined;\n",
    "                locked = false;\n",
    "                notifyAll(); // wake up waiting threads\n",
    "                while (cStatus != CStatus.RESULT) wait();\n",
    "                locked = false;\n",
    "                notifyAll();\n",
    "                cStatus = CStatus.IDLE;\n",
    "                return result;\n",
    "            default:\n",
    "                throw new InterruptedException(\"unexpected Node state\");\n",
    "        }\n",
    "    }\n",
    "    \n",
    "    synchronized void distribute(int prior) throws InterruptedException{\n",
    "        switch (cStatus) {\n",
    "            case FIRST:\n",
    "                cStatus = CStatus.IDLE;\n",
    "                locked = false;\n",
    "                break;\n",
    "            case SECOND:\n",
    "                result = prior + firstValue;\n",
    "                cStatus = CStatus.RESULT;\n",
    "                break;\n",
    "            default:\n",
    "                throw new InterruptedException(\"unexpected Node state\");\n",
    "        }\n",
    "        notifyAll();\n",
    "    }\n",
    "}"
   ]
  },
  {
   "cell_type": "code",
   "execution_count": 2,
   "metadata": {},
   "outputs": [
    {
     "name": "stdout",
     "output_type": "stream",
     "text": [
      "Overwriting CombiningTree.java\n"
     ]
    }
   ],
   "source": [
    "%%writefile CombiningTree.java\n",
    "import java.util.*;\n",
    "\n",
    "\n",
    "public class CombiningTree {\n",
    "    Node[] leaf;\n",
    "    Node[] nodes;\n",
    "    \n",
    "    public CombiningTree(int width) {\n",
    "        nodes = new Node[2*width -1];\n",
    "        nodes[0] = new Node();\n",
    "        for(int i=1; i<nodes.length; i++) {\n",
    "            nodes[i] = new Node(nodes[(i-1)/2]);\n",
    "        }\n",
    "        leaf = new Node[width];\n",
    "        for(int i=0; i<leaf.length; i++) {\n",
    "            leaf[i] = nodes[nodes.length-i-1];\n",
    "        }  \n",
    "    }\n",
    "    \n",
    "    public int getAndIncrement() {\n",
    "        Stack<Node> stack = new Stack<Node>();\n",
    "        int ThreadID = (int) Thread.currentThread().getId();\n",
    "        Node myLeaf = leaf[ThreadID % leaf.length];\n",
    "        Node node = myLeaf;\n",
    "        // precombining phase\n",
    "        try{\n",
    "            while (node.precombine()) {\n",
    "                node = node.parent;\n",
    "            }\n",
    "        }catch(Exception e) {}\n",
    "        Node stop = node;\n",
    "        // combining phase\n",
    "        int combined = 1;\n",
    "        for (node = myLeaf; node != stop; node = node.parent) {\n",
    "            try{combined = node.combine(combined);} catch (Exception e){}\n",
    "            stack.push(node);\n",
    "        }\n",
    "        try{\n",
    "            // operation phase\n",
    "            int prior = stop.op(combined);\n",
    "            // distribution phase\n",
    "            while (!stack.empty()) {\n",
    "                node = stack.pop();\n",
    "                node.distribute(prior);\n",
    "            }\n",
    "            return prior;\n",
    "        }catch(Exception e){}\n",
    "        return -1;\n",
    "        \n",
    "    }\n",
    "    \n",
    "    public int get() {\n",
    "        return nodes[0].result;\n",
    "    }\n",
    "}"
   ]
  },
  {
   "cell_type": "code",
   "execution_count": 15,
   "metadata": {},
   "outputs": [
    {
     "name": "stdout",
     "output_type": "stream",
     "text": [
      "Overwriting TestCombiningTree.java\n"
     ]
    }
   ],
   "source": [
    "%%writefile TestCombiningTree.java\n",
    "import java.util.*;\n",
    "import java.io.FileWriter;\n",
    "import java.io.IOException;\n",
    "import java.io.BufferedWriter;\n",
    "\n",
    "class TestCombiningTree {\n",
    "    static CombiningTree tree;\n",
    "    //static int TH = 12, NUM = 100;\n",
    "    static int TH, NUM;\n",
    "    static int width;\n",
    "    // tree: combining tree where threads do increment ops\n",
    "    // TH: number of threads\n",
    "    // NUM: number of increment operations each thread performs\n",
    "\n",
    "    static Thread thread(int id) {\n",
    "        return new Thread(() -> {\n",
    "            \n",
    "            long start = System.currentTimeMillis();\n",
    "            for (int i=0; i<NUM; i++) {\n",
    "               tree.getAndIncrement();\n",
    "            }\n",
    "            long stop = System.currentTimeMillis();\n",
    "            log(id()+\": done in \"+(stop-start)+\"ms\");\n",
    "        });\n",
    "    }\n",
    "\n",
    "    // Setup the combining tree for threads.\n",
    "    static void setupTree() {\n",
    "        width = (int) Math.ceil(TH/2);\n",
    "        tree = new CombiningTree(width);\n",
    "    }\n",
    "\n",
    "\n",
    "    // Start threads doing increments using tree.\n",
    "    static Thread[] startOps() {\n",
    "        Thread[] t = new Thread[TH];\n",
    "        for (int i=0; i<TH; i++)\n",
    "          t[i] = thread(i);\n",
    "        for (int i=0; i<TH; i++)\n",
    "          t[i].start();\n",
    "        return t;\n",
    "    }\n",
    "\n",
    "    // Wait until all threads done with increments.\n",
    "    static void awaitOps(Thread[] t) {\n",
    "        try {\n",
    "        for (int i=0; i<TH; i++)\n",
    "          t[i].join();\n",
    "        } catch (InterruptedException e) {}\n",
    "    }\n",
    "\n",
    "    public static void main(String[] args) {\n",
    "        TH = Integer.parseInt(args[0]);\n",
    "        NUM = Integer.parseInt(args[1]);\n",
    "        setupTree();\n",
    "        log( width +\"-leaves Combining tree.\");\n",
    "        log(\"Starting \"+ TH +\" threads doing increments ...\");\n",
    "        long start = System.currentTimeMillis();\n",
    "        Thread[] t = startOps();\n",
    "        awaitOps(t);\n",
    "        long stop = System.currentTimeMillis();\n",
    "        log(\"Total: \"+tree.get());\n",
    "        log(\"Total time: \"+(stop-start)+\"ms\");\n",
    "        try {\n",
    "            FileWriter fw = new FileWriter(\"java-combining.txt\", true);\n",
    "            BufferedWriter bw = new BufferedWriter(fw);\n",
    "            bw.write(\"java\"+',');\n",
    "            bw.write(Integer.toString(TH) +',');\n",
    "            bw.write(Integer.toString(NUM) +',');\n",
    "            bw.write(Long.toString(stop-start));\n",
    "            bw.newLine();\n",
    "            bw.close();\n",
    "            System.out.println(\"Successfully wrote to the file.\");\n",
    "        } catch (IOException e) {\n",
    "            System.out.println(\"An error occurred.\");\n",
    "            e.printStackTrace();\n",
    "        }\n",
    "        \n",
    "        \n",
    "    }\n",
    "\n",
    "    static void log(String x) {\n",
    "        System.out.println(x);\n",
    "    }\n",
    "\n",
    "    static long id() {\n",
    "        return Thread.currentThread().getId();\n",
    "    }\n",
    "}"
   ]
  },
  {
   "cell_type": "code",
   "execution_count": 16,
   "metadata": {},
   "outputs": [],
   "source": [
    "!javac TestCombiningTree.java"
   ]
  },
  {
   "cell_type": "code",
   "execution_count": 8,
   "metadata": {},
   "outputs": [
    {
     "name": "stdout",
     "output_type": "stream",
     "text": [
      "6-leaves Combining tree.\n",
      "Starting 12 threads doing increments ...\n",
      "23: done in 24ms\n",
      "16: done in 25ms\n",
      "22: done in 25ms\n",
      "17: done in 24ms\n",
      "19: done in 37ms\n",
      "25: done in 36ms\n",
      "18: done in 38ms\n",
      "24: done in 37ms\n",
      "20: done in 39ms\n",
      "14: done in 40ms\n",
      "21: done in 39ms\n",
      "15: done in 39ms\n",
      "Total: 12000\n",
      "Total time: 42ms\n",
      "Successfully wrote to the file.\n"
     ]
    }
   ],
   "source": [
    "!java -ea TestCombiningTree 12 1000"
   ]
  },
  {
   "cell_type": "markdown",
   "metadata": {},
   "source": [
    "Counting Network"
   ]
  },
  {
   "cell_type": "code",
   "execution_count": 7,
   "metadata": {},
   "outputs": [
    {
     "name": "stdout",
     "output_type": "stream",
     "text": [
      "Overwriting Balancer.java\n"
     ]
    }
   ],
   "source": [
    "%%writefile Balancer.java\n",
    "public class Balancer {\n",
    "    boolean toggle = true;\n",
    "    public synchronized int traverse() {\n",
    "        try {\n",
    "            if (toggle) {\n",
    "            return 0;\n",
    "            } else {\n",
    "            return 1;\n",
    "            }\n",
    "        } finally {\n",
    "            toggle = !toggle;\n",
    "        }\n",
    "    }\n",
    "}"
   ]
  },
  {
   "cell_type": "code",
   "execution_count": 8,
   "metadata": {},
   "outputs": [
    {
     "name": "stdout",
     "output_type": "stream",
     "text": [
      "Overwriting Merger.java\n"
     ]
    }
   ],
   "source": [
    "%%writefile Merger.java\n",
    "public class Merger {\n",
    "    Merger[] half; // two half-width merger networks\n",
    "    Balancer[] layer; //final layer\n",
    "    final int width;\n",
    "    public Merger(int myWidth) {\n",
    "        width = myWidth;\n",
    "        layer = new Balancer[width / 2];\n",
    "        for (int i = 0; i < width / 2; i++) {\n",
    "            layer[i] = new Balancer();\n",
    "        }\n",
    "        if (width > 2) {\n",
    "            half = new Merger[]{new Merger(width/2), new Merger(width/2)};\n",
    "        }\n",
    "    }\n",
    "    public int traverse(int input) {\n",
    "        int output = 0;\n",
    "        \n",
    "        if (width<=2) return layer[0].traverse();\n",
    "        \n",
    "        if (input < width / 2) {\n",
    "            output = half[input % 2].traverse(input / 2);\n",
    "        } else {\n",
    "            output = half[1 - (input % 2)].traverse(input / 2);\n",
    "        }\n",
    "        return (2 * output) + layer[output].traverse();\n",
    "    }\n",
    "}"
   ]
  },
  {
   "cell_type": "code",
   "execution_count": 9,
   "metadata": {},
   "outputs": [
    {
     "name": "stdout",
     "output_type": "stream",
     "text": [
      "Overwriting Bitonic.java\n"
     ]
    }
   ],
   "source": [
    "%%writefile Bitonic.java\n",
    "public class Bitonic {\n",
    "    Bitonic[] half; // two half-width bitonic networks\n",
    "    Merger merger; // final merger layer\n",
    "    final int width; // network width\n",
    "    public Bitonic(int myWidth) {\n",
    "        width = myWidth;\n",
    "        merger = new Merger(width);\n",
    "        if (width > 2) {\n",
    "            half = new Bitonic[]{new Bitonic(width/2), new Bitonic(width/2)};\n",
    "        }\n",
    "    }\n",
    "    public int traverse(int input) {\n",
    "        int output = 0;\n",
    "        int subnet = input / (width / 2);\n",
    "        if (width > 2) {\n",
    "            output = half[subnet].traverse(input/2);\n",
    "        }\n",
    "        return merger.traverse((input>=width/2 ? (width/2) :0) + output);\n",
    "    }\n",
    "}"
   ]
  },
  {
   "cell_type": "code",
   "execution_count": 29,
   "metadata": {},
   "outputs": [
    {
     "name": "stdout",
     "output_type": "stream",
     "text": [
      "Overwriting TestCounting.java\n"
     ]
    }
   ],
   "source": [
    "%%writefile TestCounting.java\n",
    "\n",
    "import java.util.*;\n",
    "import java.util.concurrent.atomic.AtomicInteger;\n",
    "import java.io.BufferedWriter;\n",
    "import java.io.FileWriter;\n",
    "import java.io.IOException;\n",
    "\n",
    "public class TestCounting{\n",
    "    //static int width = 4;\n",
    "    //static int tokenCount = 1000;\n",
    "    static int width;\n",
    "    static int tokenCount;\n",
    "    //static int[] counters = new int[width];\n",
    "    //static Bitonic bitonic = new Bitonic(width);\n",
    "    //static int[] tokens = new int[tokenCount];\n",
    "    \n",
    "    \n",
    "    static Thread thread(int i, int[] tokens, int[] counters, Bitonic bitonic) {\n",
    "        return new Thread(() -> {                          \n",
    "            counters[bitonic.traverse(tokens[i])]+=1;\n",
    "        });\n",
    "    }\n",
    "    \n",
    "    public static void main(String[] args) {\n",
    "        width = Integer.parseInt(args[0]);\n",
    "        tokenCount = Integer.parseInt(args[1]);\n",
    "        \n",
    "        int[] tokens = new int[tokenCount];\n",
    "        int[] counters = new int[width];\n",
    "        Bitonic bitonic = new Bitonic(width);\n",
    "        System.out.println(tokens.length);\n",
    "        \n",
    "        Random rand = new Random();\n",
    "        for(int i=0; i<tokenCount; i++){\n",
    "            tokens[i]=rand.nextInt(width);\n",
    "        }\n",
    "        \n",
    "            \n",
    "        Thread[] t = new Thread[tokenCount];\n",
    "        long start = System.currentTimeMillis();\n",
    "        for (int i=0; i<tokenCount; i++)\n",
    "          t[i] = thread(i, tokens, counters, bitonic);\n",
    "        for (int i=0; i<tokenCount; i++)\n",
    "          t[i].start();\n",
    "        try {\n",
    "        for (int i=0; i<tokenCount; i++)\n",
    "          t[i].join();\n",
    "        } catch (InterruptedException e) {}\n",
    "        long stop = System.currentTimeMillis();\n",
    "               \n",
    "        for (var i = 0; i < width; ++i)\n",
    "        {\n",
    "            System.out.println(\"Output: \" + i +\", Count: \"+counters[i]);\n",
    "        }\n",
    "        \n",
    "        System.out.println(\"Total time to traverse the network: \" + (stop-start) +\"ms\");\n",
    "        \n",
    "        try {\n",
    "            FileWriter fw = new FileWriter(\"java-counting.txt\", true);\n",
    "            BufferedWriter bw = new BufferedWriter(fw);\n",
    "            bw.write(\"java\"+',');\n",
    "            bw.write(Integer.toString(width) +',');\n",
    "            bw.write(Integer.toString(tokenCount) +',');\n",
    "            bw.write(Long.toString(stop-start));\n",
    "            bw.newLine();\n",
    "            bw.close();\n",
    "            System.out.println(\"Successfully wrote to the file.\");\n",
    "        } catch (IOException e) {\n",
    "            System.out.println(\"An error occurred.\");\n",
    "            e.printStackTrace();\n",
    "        }\n",
    "        \n",
    "    }\n",
    "}"
   ]
  },
  {
   "cell_type": "code",
   "execution_count": 30,
   "metadata": {},
   "outputs": [],
   "source": [
    "!javac TestCounting.java"
   ]
  },
  {
   "cell_type": "code",
   "execution_count": 38,
   "metadata": {},
   "outputs": [
    {
     "name": "stdout",
     "output_type": "stream",
     "text": [
      "10000\n",
      "Output: 0, Count: 2500\n",
      "Output: 1, Count: 2500\n",
      "Output: 2, Count: 2500\n",
      "Output: 3, Count: 2500\n",
      "Total time to traverse the network: 841ms\n",
      "Successfully wrote to the file.\n"
     ]
    }
   ],
   "source": [
    "!java -ea TestCounting 4 10000"
   ]
  }
 ],
 "metadata": {
  "kernelspec": {
   "display_name": "Python 3",
   "language": "python",
   "name": "python3"
  },
  "language_info": {
   "codemirror_mode": {
    "name": "ipython",
    "version": 3
   },
   "file_extension": ".py",
   "mimetype": "text/x-python",
   "name": "python",
   "nbconvert_exporter": "python",
   "pygments_lexer": "ipython3",
   "version": "3.8.5"
  }
 },
 "nbformat": 4,
 "nbformat_minor": 4
}
