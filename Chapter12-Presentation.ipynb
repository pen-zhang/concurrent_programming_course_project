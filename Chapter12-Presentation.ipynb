{
 "cells": [
  {
   "cell_type": "markdown",
   "metadata": {
    "cell_style": "center",
    "slideshow": {
     "slide_type": "slide"
    }
   },
   "source": [
    "# Software Combining and Counting Network\n",
    "\n",
    "Zhuopeng Zhang\n",
    "\n",
    "4/13/2021"
   ]
  },
  {
   "cell_type": "markdown",
   "metadata": {
    "slideshow": {
     "slide_type": "notes"
    }
   },
   "source": [
    "Here, we will introduce two basic data structure - tree and combinatorial network, and use them to implement two distributed coordination patterns - combining and counting. We will see how to make some inherently sequential work paralleled."
   ]
  },
  {
   "cell_type": "markdown",
   "metadata": {
    "cell_style": "center",
    "slideshow": {
     "slide_type": "slide"
    }
   },
   "source": [
    "## Shared counting<sup>[1]<sup/>\n",
    "\n",
    "Assume we have a pool which is a collection of items that provides `put()` and `get()` methods to insert and remove items. \n",
    "\n",
    "One way to  implement a pool by making both `put()` and `get()` synchronized. The lock will cause a sequential bottleneck, forcing all method calls to synchronize, and memory contention.\n",
    "\n",
    "Alternatively, a pool can become a cyclic array, where each array entry contains either an item or null. We route threads through two counters. Threads calling `put()` increment one counter to choose an array index. Similarly, threads calling `get()` increment another counter.\n",
    "\n",
    "So we use two bottleneck, two counters, instead of the one bottleneck, the lock.\n",
    "\n",
    "Next, we will explore how to build highly parallel shared counters to avoid bottlenecks."
   ]
  },
  {
   "cell_type": "markdown",
   "metadata": {
    "slideshow": {
     "slide_type": "slide"
    }
   },
   "source": [
    "### Software combining\n",
    "\n",
    "One way to build this parallel counter use a pattern called *software combining*. In this example, we introduce the **Combining tree**:\n",
    "\n",
    "- It is a binary tree. The counter's value is stored at the root.\n",
    "\n",
    "- Each thread is assigned a leaf and at most 2 threads share 1 leaf.\n",
    "\n",
    "- A thread starts at its leaf, and works up the tree to the root.\n",
    "\n"
   ]
  },
  {
   "cell_type": "markdown",
   "metadata": {
    "slideshow": {
     "slide_type": "slide"
    }
   },
   "source": [
    "The possible status of a node when a thread go through the tree:\n",
    "\n",
    "- IDLE: This node is not in use.\n",
    "- FIRST: One active thread has visited this node, and will return to check whether another passive thread has left a value with which to combine.\n",
    "- SECOND: A second thread has visited this node and stored a value in the node's value field to be combined with the active thread's value, but the combined operation is not yet complete.\n",
    "- RESULT: Both threads' operations have been combined and completed, and the second thread's result has been stored in the node's result field.\n",
    "- ROOT: This value is a special case to indicate that the node is the root, and must be treated specially."
   ]
  },
  {
   "cell_type": "markdown",
   "metadata": {
    "slideshow": {
     "slide_type": "notes"
    }
   },
   "source": [
    "Notes:\n",
    "\n",
    "When a thread traverse up the tree, it can continue to go up if it is the first thread arriving at the node. We call it active thread. But when a thread reaches a node that has been visited. It is blocked here and passively wait until another thread return from the root. Then it can continue. One thread can be active or passive at different level."
   ]
  },
  {
   "cell_type": "markdown",
   "metadata": {
    "slideshow": {
     "slide_type": "slide"
    }
   },
   "source": [
    "The concurrent traversal of a width 8 combining tree by five threads.<sup>[1]</sup>\n",
    "\n",
    "    \n",
    "<img src=\"images/combining-tree-execution.png\" width=700 style=\"margin: auto;\"/>"
   ]
  },
  {
   "cell_type": "markdown",
   "metadata": {
    "slideshow": {
     "slide_type": "slide"
    }
   },
   "source": [
    "- Precombining phase: All threads start from leaves. Then thread A which is the fastest stops at the root, while B stops in the middle-level node where it arrived after A, and C stops at the leaf where it arrived after B.\n",
    "\n",
    "\n",
    "<img src=\"images/combining-tree-ab.png\" width=1400 style=\"margin: auto;\"/>\n",
    " "
   ]
  },
  {
   "cell_type": "markdown",
   "metadata": {
    "slideshow": {
     "slide_type": "slide"
    }
   },
   "source": [
    "- Combining phase: Thread A returns back to the start leaf and revisits the nodes it visited in the precombining phase, combining its value with values left by other threads. \n",
    "\n",
    "- Operation phase: Thread A gets the prior value of the root, and deposits 3 to the result of root. Thread B deposits the combined value as the second value when it arrives at the middle-level node.\n",
    "\n",
    "<img src=\"images/combining-tree-cd.png\" width=1400 style=\"margin: auto;\"/>"
   ]
  },
  {
   "cell_type": "markdown",
   "metadata": {
    "slideshow": {
     "slide_type": "notes"
    }
   },
   "source": [
    "Notes:\n",
    "\n",
    "- Combining phase: Thread A set the leaf's first value to 1 it carries. Then thread A stops at the middle-level where the precombining phase ended and waits for B. After B release the lock, A locks the node. The node status is SECOND, so A combined the first and second value written by A and B respectively and moves to the root with the combined value 3.\n"
   ]
  },
  {
   "cell_type": "markdown",
   "metadata": {
    "slideshow": {
     "slide_type": "slide"
    }
   },
   "source": [
    "- Distribution phase: Thread A propagates the result down the tree. Thread A firstly reaches the middle-level node which is in SECOND status, and updates the results to be sum of the *prior* value brought from higher up the tree, and the first value. Then A is back to the leaf which status is FIRST. It only reset the node to its initial state.\n",
    "\n",
    "\n",
    "<img src=\"images/combining-tree-e.png\" width=700 style=\"margin: auto;\"/>"
   ]
  },
  {
   "cell_type": "markdown",
   "metadata": {
    "slideshow": {
     "slide_type": "slide"
    }
   },
   "source": [
    "<pre style=\"font-size: 16px;\">\n",
    "monitor Node {\n",
    "    enum CStatus {IDLE, FIRST, SECOND, RESULT, ROOT}\n",
    "    var locked: boolean\n",
    "    var firstValue, secondValue: integer\n",
    "    var result: integer\n",
    "    var cStatus: CStatus\n",
    "    var parent: Node\n",
    "    \n",
    "    {CI: firstValue ≥ 0 ∧ secondeValue ≥ 0 ∧ result ≥ 0}    \n",
    "    initialization(myParent: Node)\n",
    "        parent, cStatus, locked, firstValue, secondValue, result := myParent, IDLE, false, 0, 0, 0\n",
    "      \n",
    "    procedure precombine() -> (a: bool)\n",
    "        {cStatus ≠ SECOND ∧ cStatus ≠ RESULT}\n",
    "        while locked = true do wait()\n",
    "        if cStatus = IDLE then cStatus := FIRST; a := true\n",
    "        if cStatus = FIRST then locked, cStatus := true, SECOND; a := false\n",
    "        if cStatus = ROOT then cStatus := FIRST; a := false\n",
    "        {cStatus = FIRST ∨ cStstus = SECOND}\n",
    "    \n",
    "    procedure combine(combined: integer) -> (a: integer)\n",
    "        {cStatus = FIRST ∨ cStatus = SECOND}\n",
    "        while locked = true do wait\n",
    "        locked, firstValue := true, combined\n",
    "        if cStatus = FIRST then a := firstValue\n",
    "        if cStatus = SECOND then a := firstValue + secondValue\n",
    "        \n",
    "    procedure op(combined: integer) -> (a : integer)\n",
    "        {cStatus = ROOT ∨ cStatus = SECOND}\n",
    "        if cStatus = ROOT then \n",
    "            prior, result := result, result + combined\n",
    "            a := prior\n",
    "        if cStatus = SECOND then \n",
    "            secondValue, locked := combined, false\n",
    "            signal()\n",
    "            while cStatus ≠ RESULT do wait()\n",
    "            locked := false\n",
    "            signal()\n",
    "            cStatus := IDLE\n",
    "            a := result\n",
    "              \n",
    "    procedure distribute(prior: integer)\n",
    "        {cStatus = FIRST ∨ cStatus = SECOND}\n",
    "        if cStatus = FIRST then cStatus, locked := IDLE, false\n",
    "        if cStatus = SECOND then result, cStatus := prior + firstValue, RESULT\n",
    "        signal()       \n",
    "}\n",
    "</pre>"
   ]
  },
  {
   "cell_type": "markdown",
   "metadata": {
    "slideshow": {
     "slide_type": "slide"
    }
   },
   "source": [
    "<pre style=\"font-size: 18px;\">\n",
    "class CombiningTree {\n",
    "    \n",
    "    {CI: leaf.length×2 = nodes.length+1 ∧  \n",
    "            (∀ i ∈ 0..leaf.length-1 • leaf(i) = nodes(nodes.length-i-1)) }\n",
    "    initialization(width: integer) {\n",
    "        var nodes : array 0..2×width-1 of Node\n",
    "        var leaf : array 0..width of Node\n",
    "        \n",
    "        nodes(0) := Node()\n",
    "        i := 0\n",
    "        while i < nodes.length do\n",
    "            nodes(i), i := Node(nodes((i-1)/2)), i+1\n",
    "            \n",
    "        i := 1\n",
    "        while i < leaf.length do\n",
    "            leaf(i), i := nodes(nodes.length-i-1), i+1\n",
    "    }\n",
    "    \n",
    "    method getAndIncrement(）-> (prior: integer)\n",
    "        var stack : array 0..top of Node\n",
    "        top: integer = 0\n",
    "        myLeaf := leaf(ThreadID % leaf.length)\n",
    "        node := myLeaf\n",
    "        //precombining phase\n",
    "        while node.precombine() = true do node := node.parent //find the root or locked node\n",
    "        stop := node\n",
    "        //combining phase\n",
    "        combined: integer =1\n",
    "        node := myLeaf\n",
    "        while node ≠ stop do \n",
    "            combined, stack(top), node, top := \n",
    "                    node.combine(combined), node, node.parent, top+1\n",
    "        //operation phase\n",
    "        prior := stop.op(combined)\n",
    "        //distribute phase\n",
    "        while stack.length ≠ 0 do\n",
    "            node, top :=stack(top), top-1\n",
    "            node.distribute(prior)\n",
    "}\n",
    "\n",
    "</pre>"
   ]
  },
  {
   "cell_type": "markdown",
   "metadata": {
    "slideshow": {
     "slide_type": "slide"
    }
   },
   "source": [
    "Assume we have p threads, the depth of Combining Tree is at least $\\log p$. So each increment takes $O(\\log p)$.\n",
    "\n",
    "Time comparison of Java<sup>[2]</sup>, Go, C#\n",
    "\n",
    "\n",
    "<table>\n",
    "<tr style=\"background-color: white;\">\n",
    "    <td>\n",
    "    <figure style=\"display: inline-block; text-align: center;\">\n",
    "    <img src=\"images/tc-combining-diff-ths.png\" width=700 /><br/>\n",
    "    <figcaption style=\"text-align: center; font-size:15px\">Comparison of different thread numbers, each thread counts 1000.</figcaption>\n",
    "    </figure>\n",
    "    </td>\n",
    "    <td>\n",
    "    <figure style=\"display: inline-block; text-align: center;\">\n",
    "    <img src=\"images/tc-combining-diff-countings.png\" width=700 /><br/>\n",
    "    <figcaption style=\"text-align: center; font-size:15px\">Comparison of different counting numbers with 12 threads.</figcaption>\n",
    "    </figure>\n",
    "    </td>\n",
    "</tr> \n",
    "</table>\n",
    "\n"
   ]
  },
  {
   "cell_type": "markdown",
   "metadata": {
    "slideshow": {
     "slide_type": "slide"
    }
   },
   "source": [
    "## Next problem\n",
    "\n",
    "Now we have multiple above counters. How to distribute the threads among the counters so that there are no duplications or omissions.\n",
    "\n",
    "<figure  style=\"display: inline-block;\" >\n",
    "  <img src=\"images/counting-network.png\" width=1200 /><br/>\n",
    "  <figcaption style=\"text-align: center; font-size:15px\">Counting network<sup>[1]</sup></figcaption>\n",
    "</figure>"
   ]
  },
  {
   "cell_type": "markdown",
   "metadata": {
    "slideshow": {
     "slide_type": "slide"
    }
   },
   "source": [
    "## Counting networks\n",
    "\n",
    "### Balancer\n",
    "\n",
    "- A balancer is a switch with two states: up and down. If the state is up, the next token exits on the top wire; otherwise it exits on the bottom wire.\n",
    "\n",
    "\n",
    "<figure  style=\"display: inline-block;\" >\n",
    "  <img src=\"images/balancer.png\" width=1200 style=\"margin: auto;\"/>\n",
    "  <figcaption style=\"text-align: center; font-size:15px;\">Balancer<sup>[1]</sup></figcaption>\n",
    "</figure>\n",
    "\n",
    "\n",
    "- A balancing network is ***quiescent*** if every token that arrived on an input wire has emerged on an output wire: $\\sum x_i = \\sum y_i $\n",
    "\n"
   ]
  },
  {
   "cell_type": "markdown",
   "metadata": {
    "slideshow": {
     "slide_type": "slide"
    }
   },
   "source": [
    "## Counting networks\n",
    "\n",
    "### Balancing network\n",
    "\n",
    "- Step property: In general, if $ n = \\sum x_i $, then when the network is quiescent, $ y_i = \\lceil (n-i)/w\\rceil$\n",
    "\n",
    "\n",
    "- A balancing network that satisfies the *step property* is called a **counting network**\n",
    "\n",
    "\n",
    "<figure style=\"display:inline-block;\">\n",
    "  <img src=\"images/counting_network.png\" width=1000 /><br/>\n",
    "  <figcaption style=\"text-align: center; font-size: 15px;\"> Sequential Bitonic Counting network<sup>[1]</sup></figcaption>\n",
    "</figure>\n"
   ]
  },
  {
   "cell_type": "markdown",
   "metadata": {
    "slideshow": {
     "slide_type": "slide"
    }
   },
   "source": [
    "### Bitonic counting network\n",
    "\n",
    "\n",
    "- a **Merger[k] network** merge the even subsequence x0, x2, ..., xk-2 of x with the odd subsequence x1,x3,..xk-1 of x\n",
    "\n",
    "<figure  style=\"display: inline-block;\" >\n",
    "  <img src=\"images/Merger.png\" width=700 style=\"margin: auto;\"/>\n",
    "  <figcaption style=\"text-align: center; font-size:15px;\">Merger<sup>[1]</sup></figcaption>\n",
    "</figure>\n",
    "\n",
    "\n",
    "- **Bitonic[2k] network** passes the output from two Bitonic[k] networks into a Merger[2k]\n",
    "\n",
    "<figure  style=\"display: inline-block;\" >\n",
    "  <img src=\"images/bitonic-counting-network.png\" width=700 style=\"margin: auto;\"/>\n",
    "  <figcaption style=\"text-align: center; font-size:15px;\">Bitonic network<sup>[1]</sup></figcaption>\n",
    "</figure>"
   ]
  },
  {
   "cell_type": "markdown",
   "metadata": {
    "slideshow": {
     "slide_type": "notes"
    }
   },
   "source": [
    "Notes:\n",
    "\n",
    "For merger network,\n",
    "\n",
    "- if the input wire is in the first *width/2*, the token is sent to *half[0]* if i is even and to *half[1]* if i is odd.\n",
    "\n",
    "\n",
    "- if the input wire is in the second *width/2*, the token is sent to *half[0]* if i is odd and to *half[1]* if i is even.\n",
    "\n",
    "\n",
    "- finally, a token on wire i is fed to the balancer at layer[i]\n",
    "\n",
    "\n",
    "For bitonic network,\n",
    "\n",
    "- if the input wire is in the first *width/2*, then the token is sent through half[0] (upper Bitonic[k), otherwise through half[1] (lower Bitonic[k])\n",
    "\n",
    "\n",
    "- if a token emerges from the half[0] (upper Bitonic[k]) on wire i, then it is sent to the Merger[2k] from input wire *i*. Otherwise, it goes into the Merger[2k] from input wire *i+width/2* if it emerges from the half[1] (lower Bitonici[k])"
   ]
  },
  {
   "cell_type": "markdown",
   "metadata": {
    "slideshow": {
     "slide_type": "slide"
    }
   },
   "source": [
    "<pre style=\"font-size: 22px;\">\n",
    "monitor Balancer {\n",
    "    toggle : boolean = true\n",
    "    \n",
    "    procedure traverse() -> (a: integer)\n",
    "        if toggle = true then\n",
    "            a := 0\n",
    "        else\n",
    "            a := 1\n",
    "        toggle:=!toggle\n",
    "}\n",
    "\n",
    "</pre>"
   ]
  },
  {
   "cell_type": "markdown",
   "metadata": {
    "slideshow": {
     "slide_type": "slide"
    }
   },
   "source": [
    "<pre style=\"font-size: 22px;\">\n",
    "class Merger {\n",
    "\n",
    "    var half : Array 0..h of Merger\n",
    "    var layer : Array 0..b of Balancer\n",
    "    var width : integer\n",
    "    \n",
    "    {CI: b = width/2 }\n",
    "    initialization (myWidth: integer)\n",
    "        width := myWidth\n",
    "        b := width/2\n",
    "        i := 0\n",
    "        while i < width/2 do layer(i), i := Balancer(), i+1\n",
    "        if width>2 then\n",
    "            h := 2\n",
    "            half(0), half(1) := Merger(width/2), Merger(width/2)\n",
    "    \n",
    "    { 0 <= input < width }\n",
    "    method traverse(input : integer) -> (a: integer)\n",
    "        output := 0\n",
    "        if width ≤ 2 then \n",
    "            a := layer(0).traverser()\n",
    "        if input < width/2 then \n",
    "            output := half(input%2).traverse(input/2)\n",
    "        else \n",
    "            output := half(1-input%2).traverse(input/2)\n",
    "        a := (2*output) + layer(output).traverse()\n",
    "}\n",
    "\n",
    "</pre>"
   ]
  },
  {
   "cell_type": "markdown",
   "metadata": {
    "slideshow": {
     "slide_type": "slide"
    }
   },
   "source": [
    "\n",
    "  <pre style=\"font-size: 22px;\">\n",
    "class Bitonic {\n",
    "    half : Array 0..h of Bitonic\n",
    "    merger : Merger\n",
    "    width : integer\n",
    "    \n",
    "    initialization (myWidth : integer)\n",
    "        width := myWidth\n",
    "        merger := Merger(width)\n",
    "        if width > 2 then\n",
    "            h := 2\n",
    "            half(0), half(1) := Bitonic(width/2), Bitonic(width/2)\n",
    "    \n",
    "    { 0 <= input < width ∧ 0 ≤ subnet ≤ 1 }\n",
    "    method traverse(input : integer) -> (a : integer)\n",
    "        output:=0\n",
    "        subnet:=input/(width/2)\n",
    "        if width>2 then\n",
    "            output:=half(subnet).traverse(input/2)\n",
    "            \n",
    "        if input ≥ width/2 then \n",
    "            a := merger.traverse(width/2 + output)\n",
    "        else\n",
    "            a := merger.traverse(output)\n",
    "}\n",
    " </pre>\n"
   ]
  },
  {
   "cell_type": "markdown",
   "metadata": {
    "slideshow": {
     "slide_type": "slide"
    }
   },
   "source": [
    "Bitonic[2k] is a counting network with depth $O(\\log^2 (2k))$.<sup>[1]</sup>\n",
    "\n",
    "Timing comparison of Java, Go, C#:\n",
    "\n",
    "<table>\n",
    "<tr style=\"background-color: white;\">\n",
    "    <td>\n",
    "    <figure style=\"display: inline-block; text-align: center;\">\n",
    "    <img src=\"images/tc-counting-diff-ths.png\" width=700 /><br/>\n",
    "    <figcaption style=\"text-align: center; font-size:15px\">Comparison of different widths, the number of tokens is 10000.</figcaption>\n",
    "    </figure>\n",
    "    </td>\n",
    "    <td>\n",
    "    <figure style=\"display: inline-block; text-align: center;\">\n",
    "    <img src=\"images/tc-counting-diff-tokens.png\" width=700 /><br/>\n",
    "    <figcaption style=\"text-align: center; font-size:15px\">Comparison of counting different number of tokens, the width is 8.</figcaption>\n",
    "    </figure>\n",
    "    </td>\n",
    "</tr>\n",
    "</table>"
   ]
  },
  {
   "cell_type": "markdown",
   "metadata": {
    "slideshow": {
     "slide_type": "slide"
    }
   },
   "source": [
    "## Conclusion:\n",
    "\n",
    "- The idea behind the combining tree: if two threads read a node at approximately the same time, they combine their increments by adding them together. One thread propagates their combined increments up the tree, while the other waits for the prior thread to complete their combined work.\n",
    "\n",
    "\n",
    "- The idea behind the counting network: build a balancing network to count the number of tokens that have traversed the network."
   ]
  },
  {
   "cell_type": "markdown",
   "metadata": {
    "slideshow": {
     "slide_type": "slide"
    }
   },
   "source": [
    "## Question:\n",
    "\n",
    "1. If we want to change the binary combining tree to a trinary tree allowing 3 threads sharing one node, which fields of the node do we need to change? Describe your design.\n",
    "\n"
   ]
  },
  {
   "cell_type": "markdown",
   "metadata": {
    "slideshow": {
     "slide_type": "slide"
    }
   },
   "source": [
    "## Reference: \n",
    "1. Herlihy, M., Shavit, N., Luchangco, V., & Spear, M. (2020). The art of multiprocessor programming. Newnes.\n",
    "2. Subhajit Sahu. (2020, November 13). javaf/combining-tree. Github. https://github.com/javaf/combining-tree/blob/master/Main.java"
   ]
  }
 ],
 "metadata": {
  "celltoolbar": "Slideshow",
  "kernelspec": {
   "display_name": "Python 3",
   "language": "python",
   "name": "python3"
  },
  "language_info": {
   "codemirror_mode": {
    "name": "ipython",
    "version": 3
   },
   "file_extension": ".py",
   "mimetype": "text/x-python",
   "name": "python",
   "nbconvert_exporter": "python",
   "pygments_lexer": "ipython3",
   "version": "3.8.5"
  },
  "rise": {
   "enable_chalkboard": true
  }
 },
 "nbformat": 4,
 "nbformat_minor": 4
}
