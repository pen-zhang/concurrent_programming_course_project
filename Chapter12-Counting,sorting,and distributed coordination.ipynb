{
 "cells": [
  {
   "cell_type": "markdown",
   "metadata": {
    "cell_style": "center",
    "slideshow": {
     "slide_type": "slide"
    }
   },
   "source": [
    "# Chapter12-Counting,sorting,and distributed coordination\n",
    "\n",
    "This chapter covers several useful patterns for distribution coordination: combining, counting, diffraction, sampling\n",
    "\n",
    "Question: How to construct the basic structure underlying these patterns?\n"
   ]
  },
  {
   "cell_type": "markdown",
   "metadata": {
    "cell_style": "center",
    "slideshow": {
     "slide_type": "slide"
    }
   },
   "source": [
    "## Shared counting\n",
    "\n",
    "We have a pool which is a collection of items that provides `put()` and `get()` methods to insert and remove items.\n",
    "\n",
    "We can implement a pool by making both put() and get() synchronized. The lock will cause a sequential bottleneck, forcing all method calls to synchronize, and memory contention.\n",
    "\n",
    "Alternatively, we can make the pool become a cyclic array, where each array entry contains either an item or null. We route threads through two counters. Threads calling put() increment one counter to choose an array index. Similarly, threads calling get() increment another counter.\n",
    "\n",
    "How can we build highly parallel counters through data structures that coordinate the distribution of counter indices?"
   ]
  },
  {
   "cell_type": "markdown",
   "metadata": {
    "slideshow": {
     "slide_type": "slide"
    }
   },
   "source": [
    "### Software combining\n",
    "\n",
    "The possible values for the combining status, and their associated meanings are:\n",
    "- IDLE: This node is not in use.\n",
    "- FIRST: One active thread has visited this node, and will return to check whether another passive thread has left a value with which to combine.\n",
    "- SECOND: A second thread has visited this node and stored a value in the node’s value field to be combined with the active thread’s value, but the combined operation is not yet complete.\n",
    "- RESULT: Both threads’ operations have been combined and completed, and the second thread’s result has been stored in the node’s result field.\n",
    "- ROOT: This value is a special case to indicate that the node is the root, and must be treated specially.\n"
   ]
  },
  {
   "cell_type": "markdown",
   "metadata": {
    "slideshow": {
     "slide_type": "slide"
    }
   },
   "source": [
    "```algorithm\n",
    "monitor Node {\n",
    "    enum CStatus {IDLE, FIRST, SECOND, RESULT, ROOT}\n",
    "    var locked: boolean\n",
    "    var firstValue, secondValue: integer\n",
    "    var result: integer\n",
    "    var cStatus: CStatus\n",
    "    var parent: Node\n",
    "    \n",
    "    {CI: firstValue ≥ 0 ∧ secondeValue ≥ 0 ∧ result ≥ 0}\n",
    "    initialization()\n",
    "        parent, cStatus, locked, firstValue, secondValue, result := null, ROOT, false, 0, 0, 0\n",
    "    \n",
    "    initialization(myParent: Node)\n",
    "        parent, cStatus, locked, firstValue, secondValue, result := myParent, IDLE, false, 0, 0, 0\n",
    "      \n",
    "    procedure precombine() -> (a: bool)\n",
    "        {cStatus ≠ SECOND ∧ cStatus ≠ RESULT}\n",
    "        while locked = true do wait()\n",
    "        if cStatus = IDLE then cStatus := FIRST; a := true\n",
    "        if cStatus = FIRST then locked, cStatus := true, SECOND; a := false\n",
    "        if cStatus = ROOT then cStatus := FIRST; a := false\n",
    "        {cStatus = FIRST ∨ cStstus = SECOND}\n",
    "    \n",
    "    procedure combine(combined: integer) -> (a: integer)\n",
    "        {cStatus = FIRST ∨ cStatus = SECOND}\n",
    "        while locked = true do wait\n",
    "        locked, firstValue := true, combined\n",
    "        if cStatus = FIRST then a := firstValue\n",
    "        if cStatus = SECOND then a := firstValue + secondValue\n",
    "        \n",
    "    procedure op(combined: integer) -> (a : integer)\n",
    "        {cStatus = ROOT ∨ cStatus = SECOND}\n",
    "        if cStatus = ROOT then \n",
    "            prior, result := result, result + combined\n",
    "            a := prior\n",
    "        if cStatus = SECOND then \n",
    "            secondValue, locked := combined, false\n",
    "            signal()\n",
    "            while cStatus ≠ RESULT do wait()\n",
    "            locked := false\n",
    "            signal()\n",
    "            cStatus := IDLE\n",
    "            a := result\n",
    "              \n",
    "    procedure distribute(prior: integer)\n",
    "        {cStatus = FIRST ∨ cStatus = SECOND}\n",
    "        if cStatus = FIRST then cStatus, locked := IDLE, false\n",
    "        if cStatus = SECOND then result, cStatus := prior + firstValue, RESULT\n",
    "        signal()\n",
    "            \n",
    "}\n",
    "\n",
    "```"
   ]
  },
  {
   "cell_type": "markdown",
   "metadata": {
    "slideshow": {
     "slide_type": "slide"
    }
   },
   "source": [
    "```\n",
    "class CombiningTree {\n",
    "    \n",
    "    {CI: leaf.length×2 = nodes.length+1 ∧  \n",
    "            (∀ i ∈ 0..leaf.length-1 • leaf(i) = nodes(nodes.length-i-1)) }\n",
    "    initialization(width: integer) {\n",
    "        var nodes : array 0..2×width-1 of Node\n",
    "        var leaf : array 0..width of Node\n",
    "        \n",
    "        nodes(0) := Node()\n",
    "        i := 0\n",
    "        while i < nodes.length do\n",
    "            nodes(i), i := Node(nodes((i-1)/2)), i+1\n",
    "            \n",
    "        i := 1\n",
    "        while i < leaf.length do\n",
    "            leaf(i), i := nodes(nodes.length-i-1), i+1\n",
    "    }\n",
    "    \n",
    "    \n",
    "    method getAndIncrement(）-> (prior: integer)\n",
    "        var stack : array 0..top of Node\n",
    "        top: integer = 0\n",
    "        myLeaf := leaf(ThreadID % leaf.length)\n",
    "        node := myLeaf\n",
    "        //precombining phase\n",
    "        while node.precombine() = true do node := node.parent //find the root or locked node\n",
    "        stop := node\n",
    "        //combining phase\n",
    "        combined: integer =1\n",
    "        node := myLeaf\n",
    "        while node ≠ stop do \n",
    "            combined, stack(top), node, top := \n",
    "                    node.combine(combined), node, node.parent, top+1\n",
    "        //operation phase\n",
    "        prior := stop.op(combined)\n",
    "        //distribute phase\n",
    "        while stack.length ≠ 0 do\n",
    "            node, top :=stack(top), top-1\n",
    "            node.distribute(prior)\n",
    "\n",
    "}\n",
    "\n",
    "```"
   ]
  },
  {
   "cell_type": "markdown",
   "metadata": {
    "slideshow": {
     "slide_type": "slide"
    }
   },
   "source": [
    "The concurrent traversal of a width 8 combining tree by five threads.\n",
    "\n",
    "<img src=\"images/combining-tree-execution.png\" width=700 />"
   ]
  },
  {
   "cell_type": "code",
   "execution_count": 1,
   "metadata": {
    "cell_style": "center",
    "code_folding": [],
    "slideshow": {
     "slide_type": "subslide"
    }
   },
   "outputs": [
    {
     "name": "stdout",
     "output_type": "stream",
     "text": [
      "Writing Node.java\n"
     ]
    }
   ],
   "source": [
    "%%writefile Node.java\n",
    "public class Node {\n",
    "    enum CStatus{IDLE, FIRST, SECOND, RESULT, ROOT};\n",
    "    boolean locked;\n",
    "    CStatus cStatus;\n",
    "    int firstValue, secondValue;\n",
    "    int result;\n",
    "    Node parent;\n",
    "    public Node() {\n",
    "        cStatus = CStatus.ROOT;\n",
    "        locked = false;\n",
    "    }\n",
    "    public Node(Node myParent) {\n",
    "        parent = myParent;\n",
    "        cStatus = CStatus.IDLE;\n",
    "        locked = false;\n",
    "    }\n",
    "    \n",
    "    synchronized boolean precombine() throws InterruptedException{\n",
    "        while (locked) wait();\n",
    "        switch (cStatus) {\n",
    "            case IDLE:\n",
    "                cStatus = CStatus.FIRST;\n",
    "                return true;\n",
    "            case FIRST:\n",
    "                locked = true;\n",
    "                cStatus = CStatus.SECOND;\n",
    "                return false;\n",
    "            case ROOT:\n",
    "                return false;\n",
    "            default:\n",
    "                throw new InterruptedException(\"unexpected Node state\" + cStatus);\n",
    "        }\n",
    "    }\n",
    "    \n",
    "    synchronized int combine(int combined) throws InterruptedException{\n",
    "        while (locked) wait();\n",
    "        locked = true;\n",
    "        firstValue = combined;\n",
    "        switch (cStatus) {\n",
    "            case FIRST:\n",
    "                return firstValue;\n",
    "            case SECOND:\n",
    "                return firstValue + secondValue;\n",
    "            default:\n",
    "                throw new InterruptedException(\"unexpected Node state \" + cStatus);\n",
    "        }\n",
    "    }\n",
    "    \n",
    "    synchronized int op(int combined)  throws InterruptedException{\n",
    "        switch (cStatus) {\n",
    "            case ROOT:\n",
    "                int prior = result;\n",
    "                result += combined;\n",
    "                return prior;\n",
    "            case SECOND:\n",
    "                secondValue = combined;\n",
    "                locked = false;\n",
    "                notifyAll(); // wake up waiting threads\n",
    "                while (cStatus != CStatus.RESULT) wait();\n",
    "                locked = false;\n",
    "                notifyAll();\n",
    "                cStatus = CStatus.IDLE;\n",
    "                return result;\n",
    "            default:\n",
    "                throw new InterruptedException(\"unexpected Node state\");\n",
    "        }\n",
    "    }\n",
    "    \n",
    "    synchronized void distribute(int prior) throws InterruptedException{\n",
    "        switch (cStatus) {\n",
    "            case FIRST:\n",
    "                cStatus = CStatus.IDLE;\n",
    "                locked = false;\n",
    "                break;\n",
    "            case SECOND:\n",
    "                result = prior + firstValue;\n",
    "                cStatus = CStatus.RESULT;\n",
    "                break;\n",
    "            default:\n",
    "                throw new InterruptedException(\"unexpected Node state\");\n",
    "        }\n",
    "        notifyAll();\n",
    "    }\n",
    "}"
   ]
  },
  {
   "cell_type": "code",
   "execution_count": 1,
   "metadata": {
    "code_folding": [],
    "slideshow": {
     "slide_type": "subslide"
    }
   },
   "outputs": [
    {
     "name": "stdout",
     "output_type": "stream",
     "text": [
      "Overwriting CombiningTree.java\n"
     ]
    }
   ],
   "source": [
    "%%writefile CombiningTree.java\n",
    "import java.util.*;\n",
    "\n",
    "\n",
    "public class CombiningTree {\n",
    "    Node[] leaf;\n",
    "    Node[] nodes;\n",
    "    \n",
    "    public CombiningTree(int width) {\n",
    "        nodes = new Node[2*width -1];\n",
    "        nodes[0] = new Node();\n",
    "        for(int i=1; i<nodes.length; i++) {\n",
    "            nodes[i] = new Node(nodes[(i-1)/2]);\n",
    "        }\n",
    "        leaf = new Node[width];\n",
    "        for(int i=0; i<leaf.length; i++) {\n",
    "            leaf[i] = nodes[nodes.length-i-1];\n",
    "        }  \n",
    "    }\n",
    "    \n",
    "    public int getAndIncrement() {\n",
    "        Stack<Node> stack = new Stack<Node>();\n",
    "        int ThreadID = (int) Thread.currentThread().getId();\n",
    "        Node myLeaf = leaf[ThreadID % leaf.length];\n",
    "        Node node = myLeaf;\n",
    "        // precombining phase\n",
    "        try{\n",
    "            while (node.precombine()) {\n",
    "                node = node.parent;\n",
    "            }\n",
    "        }catch(Exception e) {}\n",
    "        Node stop = node;\n",
    "        // combining phase\n",
    "        int combined = 1;\n",
    "        for (node = myLeaf; node != stop; node = node.parent) {\n",
    "            try{combined = node.combine(combined);} catch (Exception e){}\n",
    "            stack.push(node);\n",
    "        }\n",
    "        try{\n",
    "            // operation phase\n",
    "            int prior = stop.op(combined);\n",
    "            // distribution phase\n",
    "            while (!stack.empty()) {\n",
    "                node = stack.pop();\n",
    "                node.distribute(prior);\n",
    "            }\n",
    "            return prior;\n",
    "        }catch(Exception e){}\n",
    "        return -1;\n",
    "        \n",
    "    }\n",
    "    \n",
    "    public int get() {\n",
    "        return nodes[0].result;\n",
    "    }\n",
    "}"
   ]
  },
  {
   "cell_type": "code",
   "execution_count": 2,
   "metadata": {
    "slideshow": {
     "slide_type": "subslide"
    }
   },
   "outputs": [
    {
     "name": "stdout",
     "output_type": "stream",
     "text": [
      "Overwriting TestCombiningTree.java\n"
     ]
    }
   ],
   "source": [
    "%%writefile TestCombiningTree.java\n",
    "import java.util.*;\n",
    "\n",
    "class TestCombiningTree {\n",
    "    static CombiningTree tree;\n",
    "    static int TH = 12, NUM = 100;\n",
    "    static int width;\n",
    "    // tree: combining tree where threads do increment ops\n",
    "    // TH: number of threads\n",
    "    // NUM: number of increment operations each thread performs\n",
    "\n",
    "    static Thread thread(int id) {\n",
    "        return new Thread(() -> {\n",
    "            \n",
    "            long start = System.currentTimeMillis();\n",
    "            for (int i=0; i<NUM; i++) {\n",
    "               tree.getAndIncrement();\n",
    "            }\n",
    "            long stop = System.currentTimeMillis();\n",
    "            log(id()+\": done in \"+(stop-start)+\"ms\");\n",
    "        });\n",
    "    }\n",
    "\n",
    "    // Setup the combining tree for threads.\n",
    "    static void setupTree() {\n",
    "        width = (int) Math.ceil(TH/2);\n",
    "        tree = new CombiningTree(width);\n",
    "    }\n",
    "\n",
    "\n",
    "    // Start threads doing increments using tree.\n",
    "    static Thread[] startOps() {\n",
    "        Thread[] t = new Thread[TH];\n",
    "        for (int i=0; i<TH; i++)\n",
    "          t[i] = thread(i);\n",
    "        for (int i=0; i<TH; i++)\n",
    "          t[i].start();\n",
    "        return t;\n",
    "    }\n",
    "\n",
    "    // Wait until all threads done with increments.\n",
    "    static void awaitOps(Thread[] t) {\n",
    "        try {\n",
    "        for (int i=0; i<TH; i++)\n",
    "          t[i].join();\n",
    "        } catch (InterruptedException e) {}\n",
    "    }\n",
    "\n",
    "    public static void main(String[] args) {\n",
    "        setupTree();\n",
    "        log( width +\"-leaves Combining tree.\");\n",
    "        log(\"Starting \"+ TH +\" threads doing increments ...\");\n",
    "        long start = System.currentTimeMillis();\n",
    "        Thread[] t = startOps();\n",
    "        awaitOps(t);\n",
    "        long stop = System.currentTimeMillis();\n",
    "        log(\"Total: \"+tree.get());\n",
    "        log(\"Total time: \"+(stop-start)+\"ms\");\n",
    "    }\n",
    "\n",
    "    static void log(String x) {\n",
    "        System.out.println(x);\n",
    "    }\n",
    "\n",
    "    static long id() {\n",
    "        return Thread.currentThread().getId();\n",
    "    }\n",
    "}"
   ]
  },
  {
   "cell_type": "code",
   "execution_count": 14,
   "metadata": {
    "slideshow": {
     "slide_type": "subslide"
    }
   },
   "outputs": [],
   "source": [
    "!javac TestCombiningTree.java"
   ]
  },
  {
   "cell_type": "code",
   "execution_count": 15,
   "metadata": {
    "slideshow": {
     "slide_type": "subslide"
    }
   },
   "outputs": [
    {
     "name": "stdout",
     "output_type": "stream",
     "text": [
      "6-leaves Combining tree.\n",
      "Starting 12 threads doing increments ...\n",
      "17: done in 5ms\n",
      "19: done in 10ms\n",
      "18: done in 9ms\n",
      "14: done in 10ms\n",
      "25: done in 10ms\n",
      "15: done in 11ms\n",
      "23: done in 5ms\n",
      "20: done in 9ms\n",
      "16: done in 7ms\n",
      "24: done in 8ms\n",
      "22: done in 6ms\n",
      "21: done in 11ms\n",
      "Total: 1200\n",
      "Total time: 19ms\n"
     ]
    }
   ],
   "source": [
    "!java -ea TestCombiningTree"
   ]
  },
  {
   "cell_type": "markdown",
   "metadata": {
    "slideshow": {
     "slide_type": "slide"
    }
   },
   "source": [
    "Assume we have p threads, the depth of Combinning Tree is at least $\\log p$. So each increment takes $O(\\log p)$."
   ]
  },
  {
   "cell_type": "markdown",
   "metadata": {
    "slideshow": {
     "slide_type": "slide"
    }
   },
   "source": [
    "- Next problem is how to distribute the threads among the counters so that there are no duplications or omissions if we replace the combining tree's single counter with mutiple counters"
   ]
  },
  {
   "attachments": {
    "712a6f2c-3154-47b2-9873-911f4d53d5b7.png": {
     "image/png": "[encoded data removed]"
    }
   },
   "cell_type": "markdown",
   "metadata": {
    "slideshow": {
     "slide_type": "slide"
    }
   },
   "source": [
    "## Counting networks\n",
    "\n",
    "### Balancer\n",
    "\n",
    "- A balancer has two states: up and down. If the state is up, the next token exits on the top wire; otherwise it exits on the bottom wire.\n",
    "\n",
    "![image.png](attachment:712a6f2c-3154-47b2-9873-911f4d53d5b7.png)\n",
    "\n",
    "\n",
    "- A balancing network is ***quiescent*** if every token that arrived on an input wire has emerged on an output wire: $$\\sum x_i = \\sum y_i $$\n",
    "\n",
    "\n",
    "- step property: In general, if $$ n = \\sum x_i $$ then, when the network is quiescent, $$ y_i = \\lceil (n-i)/w\\rceil$$\n",
    "\n",
    "\n",
    "- A balancing network that satisfies the *step property* is called a **counting network**\n",
    "\n",
    "\n",
    "### Merger\n",
    "\n",
    "\n",
    "- a Merger[k] network merge the even subsequence x0, x2, ..., xk-1 of x with the odd subsequence x1',x2',..x'k-1 of x'\n",
    "\n",
    "\n",
    "<img src=\"images/Merger.png\" width=500/>\n",
    "\n",
    "\n",
    "### Bitonic\n",
    "\n",
    "\n",
    "- Bitonic[2k] network passes the output from two Bitonic[k] networks into a Merger[2k]"
   ]
  },
  {
   "cell_type": "markdown",
   "metadata": {
    "slideshow": {
     "slide_type": "slide"
    }
   },
   "source": [
    "### Bitonic counting network\n",
    "\n",
    "\n",
    "\n",
    "<img src=\"images/counting_network.png\" width=700 />"
   ]
  },
  {
   "cell_type": "markdown",
   "metadata": {
    "slideshow": {
     "slide_type": "fragment"
    }
   },
   "source": [
    "```\n",
    "monitor Balancer {\n",
    "    toggle : boolean = true\n",
    "    \n",
    "    procedure traverse() -> (a: integer)\n",
    "        if toggle = true then\n",
    "            a := 0\n",
    "        else\n",
    "            a := 1\n",
    "        toggle:=!toggle\n",
    "}\n",
    "\n",
    "\n",
    "class Merger {\n",
    "\n",
    "    var half : Array 0..h of Merger\n",
    "    var layer : Array 0..b of Balancer\n",
    "    var width : integer\n",
    "    \n",
    "    {CI: b = width/2 }\n",
    "    initialization (myWidth: integer)\n",
    "        width := myWidth\n",
    "        b := width/2\n",
    "        i := 0\n",
    "        while i < width/2 do layer(i), i := Balancer(), i+1\n",
    "        if width>2 then\n",
    "            h := 2\n",
    "            half(0), half(1) := Merger(width/2), Merger(width/2)\n",
    "    \n",
    "    { 0 <= input < width }\n",
    "    method traverse(input : integer) -> (a: integer)\n",
    "        output := 0\n",
    "        if width ≤ 2 then \n",
    "            a := layer(0).traverser()\n",
    "        if input < width/2 then \n",
    "            output := half(input%2).traverse(input/2)\n",
    "        else \n",
    "            output := half(1-input%2).traverse(input/2)\n",
    "        a := (2*output) + layer(output).traverse()\n",
    "}\n",
    "\n",
    "\n",
    "class Bitonic {\n",
    "    \n",
    "    half : Array 0..h of Bitonic\n",
    "    merger : Merger\n",
    "    width : integer\n",
    "    \n",
    "    initialization (myWidth : integer)\n",
    "        width := myWidth\n",
    "        merger := Merger(width)\n",
    "        if width > 2 then\n",
    "            h := 2\n",
    "            half(0), half(1) := Bitonic(width/2), Bitonic(width/2)\n",
    "    \n",
    "    { 0 <= input < width ∧ 0 ≤ subnet ≤ 1 }\n",
    "    method traverse(input : integer) -> (a : integer)\n",
    "        output:=0\n",
    "        subnet:=input/(width/2)\n",
    "        if width>2 then\n",
    "            output:=half(subnet).traverse(input/2)\n",
    "            \n",
    "        if input ≥ width/2 then \n",
    "            a := merger.traverse(width/2 + output)\n",
    "        else\n",
    "            a := merger.travese(output)\n",
    "\n",
    "}\n",
    "\n",
    "```"
   ]
  },
  {
   "cell_type": "code",
   "execution_count": 8,
   "metadata": {
    "slideshow": {
     "slide_type": "subslide"
    }
   },
   "outputs": [
    {
     "name": "stdout",
     "output_type": "stream",
     "text": [
      "Overwriting Balancer.java\n"
     ]
    }
   ],
   "source": [
    "%%writefile Balancer.java\n",
    "public class Balancer {\n",
    "    boolean toggle = true;\n",
    "    public synchronized int traverse() {\n",
    "        try {\n",
    "            if (toggle) {\n",
    "            return 0;\n",
    "            } else {\n",
    "            return 1;\n",
    "            }\n",
    "        } finally {\n",
    "            toggle = !toggle;\n",
    "        }\n",
    "    }\n",
    "}"
   ]
  },
  {
   "cell_type": "code",
   "execution_count": 7,
   "metadata": {
    "slideshow": {
     "slide_type": "subslide"
    }
   },
   "outputs": [
    {
     "name": "stdout",
     "output_type": "stream",
     "text": [
      "Writing Merger.java\n"
     ]
    }
   ],
   "source": [
    "%%writefile Merger.java\n",
    "public class Merger {\n",
    "    Merger[] half; // two half-width merger networks\n",
    "    Balancer[] layer; //final layer\n",
    "    final int width;\n",
    "    public Merger(int myWidth) {\n",
    "        width = myWidth;\n",
    "        layer = new Balancer[width / 2];\n",
    "        for (int i = 0; i < width / 2; i++) {\n",
    "            layer[i] = new Balancer();\n",
    "        }\n",
    "        if (width > 2) {\n",
    "            half = new Merger[]{new Merger(width/2), new Merger(width/2)};\n",
    "        }\n",
    "    }\n",
    "    public int traverse(int input) {\n",
    "        int output = 0;\n",
    "        \n",
    "        if (width<=2) return layer[0].traverse();\n",
    "        \n",
    "        if (input < width / 2) {\n",
    "            output = half[input % 2].traverse(input / 2);\n",
    "        } else {\n",
    "            output = half[1 - (input % 2)].traverse(input / 2);\n",
    "        }\n",
    "        return (2 * output) + layer[output].traverse();\n",
    "    }\n",
    "}"
   ]
  },
  {
   "cell_type": "code",
   "execution_count": 9,
   "metadata": {
    "slideshow": {
     "slide_type": "subslide"
    }
   },
   "outputs": [
    {
     "name": "stdout",
     "output_type": "stream",
     "text": [
      "Writing Bitonic.java\n"
     ]
    }
   ],
   "source": [
    "%%writefile Bitonic.java\n",
    "public class Bitonic {\n",
    "    Bitonic[] half; // two half-width bitonic networks\n",
    "    Merger merger; // final merger layer\n",
    "    final int width; // network width\n",
    "    public Bitonic(int myWidth) {\n",
    "        width = myWidth;\n",
    "        merger = new Merger(width);\n",
    "        if (width > 2) {\n",
    "            half = new Bitonic[]{new Bitonic(width/2), new Bitonic(width/2)};\n",
    "        }\n",
    "    }\n",
    "    public int traverse(int input) {\n",
    "        int output = 0;\n",
    "        int subnet = input / (width / 2);\n",
    "        if (width > 2) {\n",
    "            output = half[subnet].traverse(input/2);\n",
    "        }\n",
    "        return merger.traverse((input>=width/2 ? (width/2) :0) + output);\n",
    "    }\n",
    "}"
   ]
  },
  {
   "cell_type": "code",
   "execution_count": 10,
   "metadata": {
    "code_folding": [],
    "scrolled": true,
    "slideshow": {
     "slide_type": "subslide"
    }
   },
   "outputs": [
    {
     "name": "stdout",
     "output_type": "stream",
     "text": [
      "Overwriting Test.java\n"
     ]
    }
   ],
   "source": [
    "%%writefile Test.java\n",
    "\n",
    "import java.util.*;\n",
    "import java.util.concurrent.atomic.AtomicInteger;\n",
    "\n",
    "public class Test{\n",
    "    static int width = 4;\n",
    "    static int[] counters = new int[width];\n",
    "    static Bitonic bitonic = new Bitonic(width);\n",
    "    static int tokenCount = 1000;\n",
    "    static int[] tokens = new int[tokenCount];\n",
    "    \n",
    "    \n",
    "    static Thread thread(int i) {\n",
    "        return new Thread(() -> {                          \n",
    "            counters[bitonic.traverse(tokens[i])]+=1;\n",
    "        });\n",
    "    }\n",
    "    \n",
    "    public static void main(String[] args) {\n",
    "        \n",
    "        Random rand = new Random();\n",
    "        for(int i=0; i<tokenCount; i++){\n",
    "            tokens[i]=rand.nextInt(width);\n",
    "        }\n",
    "        \n",
    "            \n",
    "        Thread[] t = new Thread[tokenCount];\n",
    "        long start = System.currentTimeMillis();\n",
    "        for (int i=0; i<tokenCount; i++)\n",
    "          t[i] = thread(i);\n",
    "        for (int i=0; i<tokenCount; i++)\n",
    "          t[i].start();\n",
    "        try {\n",
    "        for (int i=0; i<tokenCount; i++)\n",
    "          t[i].join();\n",
    "        } catch (InterruptedException e) {}\n",
    "        long stop = System.currentTimeMillis();\n",
    "               \n",
    "        for (var i = 0; i < width; ++i)\n",
    "        {\n",
    "            System.out.println(\"Output: \" + i +\", Count: \"+counters[i]);\n",
    "        }\n",
    "        \n",
    "        System.out.println(\"Total time to traverse the network: \" + (stop-start) +\"ms\");\n",
    "    }\n",
    "}"
   ]
  },
  {
   "cell_type": "code",
   "execution_count": 11,
   "metadata": {
    "slideshow": {
     "slide_type": "subslide"
    }
   },
   "outputs": [],
   "source": [
    "!javac Test.java"
   ]
  },
  {
   "cell_type": "code",
   "execution_count": 12,
   "metadata": {
    "scrolled": true,
    "slideshow": {
     "slide_type": "subslide"
    }
   },
   "outputs": [
    {
     "name": "stdout",
     "output_type": "stream",
     "text": [
      "Output: 0, Count: 250\n",
      "Output: 1, Count: 250\n",
      "Output: 2, Count: 250\n",
      "Output: 3, Count: 250\n",
      "Total time to traverse the network: 107ms\n"
     ]
    }
   ],
   "source": [
    "!java -ea Test"
   ]
  },
  {
   "cell_type": "markdown",
   "metadata": {
    "slideshow": {
     "slide_type": "slide"
    }
   },
   "source": [
    "Bitonic[2k] is a counting network with depth $O(\\log^2 (2k))$. The complexty is the same.\n",
    "\n",
    "$$ \\text{Depth_Bitonic[2k]} = \\left\\{ \\begin{array}{l}\n",
    "1 & k=1 \\\\ \n",
    "\\text{Depth_Merger[2k]} + 2 \\times \\text{ Depth_Bitonic[k]}  & k>1\n",
    "\\end{array}\\right.\n",
    "$$\n",
    "\n",
    "$$\n",
    "\\text{Depth_Merger[2k]} = \\left\\{ \\begin{array}{l}\n",
    "1 & k=1 \\\\ \n",
    "1 + 2 \\times \\text{Depth_Merger[k]}  & k>1\n",
    "\\end{array}\\right.\n",
    "$$\n",
    "\n",
    "\n"
   ]
  },
  {
   "cell_type": "markdown",
   "metadata": {
    "slideshow": {
     "slide_type": "slide"
    }
   },
   "source": [
    "## Conclusion:\n",
    "\n",
    "- The idea behind the combining tree: if two threads read a node at approximately the same time, they combine their increments by adding them together. One thread, the active thread, propagates their combined increments up the tree, while the other, the passive thread, waits for the active thread to complete their combined work.\n",
    "\n",
    "\n",
    "- The idea behind the counting network: build a balancer network that satisfies the step property to count the number of tokens that have traversed the network."
   ]
  },
  {
   "cell_type": "markdown",
   "metadata": {
    "slideshow": {
     "slide_type": "slide"
    }
   },
   "source": [
    "## Reference: \n",
    "1. Herlihy, M., Shavit, N., Luchangco, V., & Spear, M. (2020). The art of multiprocessor programming. Newnes.\n",
    "2. Subhajit Sahu. (2020, November 13). javaf/combining-tree. Github. https://github.com/javaf/combining-tree/blob/master/Main.java"
   ]
  }
 ],
 "metadata": {
  "celltoolbar": "Slideshow",
  "kernelspec": {
   "display_name": "Python 3",
   "language": "python",
   "name": "python3"
  },
  "language_info": {
   "codemirror_mode": {
    "name": "ipython",
    "version": 3
   },
   "file_extension": ".py",
   "mimetype": "text/x-python",
   "name": "python",
   "nbconvert_exporter": "python",
   "pygments_lexer": "ipython3",
   "version": "3.8.5"
  },
  "rise": {
   "enable_chalkboard": true
  }
 },
 "nbformat": 4,
 "nbformat_minor": 4
}
