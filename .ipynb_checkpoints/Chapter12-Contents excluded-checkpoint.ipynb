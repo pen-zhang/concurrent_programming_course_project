{
 "cells": [
  {
   "cell_type": "markdown",
   "metadata": {},
   "source": [
    "# Chapter12-Counting,sorting,and distributed coordination\n",
    "\n",
    "## Introdution\n"
   ]
  },
  {
   "cell_type": "markdown",
   "metadata": {},
   "source": [
    "## Shared counting"
   ]
  },
  {
   "cell_type": "markdown",
   "metadata": {},
   "source": [
    "### Software combining\n",
    "\n",
    "```algorithm\n",
    "class Node {\n",
    "    enum CStatus {IDLE, FIRST, SECOND, RESULT, ROOT}\n",
    "    locked: boolean\n",
    "    firstValue, secondValue: integer\n",
    "    result: integer\n",
    "    cStatus: CStatus\n",
    "    \n",
    "    {}\n",
    "    initialization()\n",
    "        cStatus, locked:= CStatus.ROOT, false\n",
    "    \n",
    "    {}   \n",
    "    initialization(myParent: Node)\n",
    "        parent, cStatus, locked:= myParent, CStatus.ROOT, false\n",
    "            \n",
    "    method precombine()\n",
    "        while locked=true do wait\n",
    "        if cStatus=IDLE then cStatus := CStatus.FIRST\n",
    "        if cStatus=FIRST then locked, cStatus := true, CStatus.SECOND\n",
    "        if cStatus=ROOT then cStatus := CStatus.FIRST\n",
    "    \n",
    "    method combine(combined: integer)\n",
    "        while locked=true do wait\n",
    "        locked, firstValue := true, combined\n",
    "        if cStatus=FIRST then -> firstValue\n",
    "        if cStatus=SECOND then -> firstValue + secondValue\n",
    "        \n",
    "    method op(combined: integer)\n",
    "        \n",
    "         \n",
    "        \n",
    "    method distribute(prior: integer)\n",
    "            \n",
    "            \n",
    "}\n",
    "\n",
    "class CombiningTree {\n",
    "    \n",
    "    {}\n",
    "    initialization(width: integer) {\n",
    "        nodes:=\n",
    "        \n",
    "        do\n",
    "        leaf:=\n",
    "    }\n",
    "}\n",
    "```\n"
   ]
  },
  {
   "cell_type": "code",
   "execution_count": 2,
   "metadata": {
    "code_folding": []
   },
   "outputs": [
    {
     "name": "stdout",
     "output_type": "stream",
     "text": [
      "Overwriting Node.java\n"
     ]
    }
   ],
   "source": [
    "%%writefile Node.java\n",
    "public class Node {\n",
    "    enum CStatus{IDLE, FIRST, SECOND, RESULT, ROOT};\n",
    "    boolean locked;\n",
    "    CStatus cStatus;\n",
    "    int firstValue, secondValue;\n",
    "    int result;\n",
    "    Node parent;\n",
    "    public Node() {\n",
    "        cStatus = CStatus.ROOT;\n",
    "        locked = false;\n",
    "    }\n",
    "    public Node(Node myParent) {\n",
    "        parent = myParent;\n",
    "        cStatus = CStatus.IDLE;\n",
    "        locked = false;\n",
    "    }\n",
    "    \n",
    "    synchronized boolean precombine() throws InterruptedException{\n",
    "        while (locked) wait();\n",
    "        switch (cStatus) {\n",
    "            case IDLE:\n",
    "                cStatus = CStatus.FIRST;\n",
    "                return true;\n",
    "            case FIRST:\n",
    "                locked = true;\n",
    "                cStatus = CStatus.SECOND;\n",
    "                return false;\n",
    "            case ROOT:\n",
    "                return false;\n",
    "            default:\n",
    "                throw new InterruptedException(\"unexpected Node state\" + cStatus);\n",
    "        }\n",
    "    }\n",
    "    \n",
    "    synchronized int combine(int combined) throws InterruptedException{\n",
    "        while (locked) wait();\n",
    "        locked = true;\n",
    "        firstValue = combined;\n",
    "        switch (cStatus) {\n",
    "            case FIRST:\n",
    "                return firstValue;\n",
    "            case SECOND:\n",
    "                return firstValue + secondValue;\n",
    "            default:\n",
    "                throw new InterruptedException(\"unexpected Node state \" + cStatus);\n",
    "        }\n",
    "    }\n",
    "    \n",
    "    synchronized int op(int combined)  throws InterruptedException{\n",
    "        switch (cStatus) {\n",
    "            case ROOT:\n",
    "                int prior = result;\n",
    "                result += combined;\n",
    "                return prior;\n",
    "            case SECOND:\n",
    "                secondValue = combined;\n",
    "                locked = false;\n",
    "                notifyAll(); // wake up waiting threads\n",
    "                while (cStatus != CStatus.RESULT) wait();\n",
    "                locked = false;\n",
    "                notifyAll();\n",
    "                cStatus = CStatus.IDLE;\n",
    "                return result;\n",
    "            default:\n",
    "                throw new InterruptedException(\"unexpected Node state\");\n",
    "        }\n",
    "    }\n",
    "    \n",
    "    synchronized void distribute(int prior) throws InterruptedException{\n",
    "        switch (cStatus) {\n",
    "            case FIRST:\n",
    "                cStatus = CStatus.IDLE;\n",
    "                locked = false;\n",
    "                break;\n",
    "            case SECOND:\n",
    "                result = prior + firstValue;\n",
    "                cStatus = CStatus.RESULT;\n",
    "                break;\n",
    "            default:\n",
    "                throw new InterruptedException(\"unexpected Node state\");\n",
    "        }\n",
    "        notifyAll();\n",
    "    }\n",
    "}"
   ]
  },
  {
   "cell_type": "code",
   "execution_count": 21,
   "metadata": {
    "code_folding": []
   },
   "outputs": [
    {
     "name": "stdout",
     "output_type": "stream",
     "text": [
      "Overwriting CombiningTree.java\n"
     ]
    }
   ],
   "source": [
    "%%writefile CombiningTree.java\n",
    "import java.util.*;\n",
    "\n",
    "\n",
    "public class CombiningTree {\n",
    "    Node[] leaf;\n",
    "    Node[] nodes;\n",
    "    \n",
    "    public CombiningTree(int width) {\n",
    "        nodes = new Node[2*width -1];\n",
    "        nodes[0] = new Node();\n",
    "        for(int i=1; i<nodes.length; i++) {\n",
    "            nodes[i] = new Node(nodes[(i-1)/2]);\n",
    "        }\n",
    "        leaf = new Node[width];\n",
    "        for(int i=0; i<leaf.length; i++) {\n",
    "            leaf[i] = nodes[nodes.length-i-1];\n",
    "        }  \n",
    "    }\n",
    "    \n",
    "    public int getAndIncrement() {\n",
    "        Stack<Node> stack = new Stack<Node>();\n",
    "        int ThreadID = (int) Thread.currentThread().getId();\n",
    "        Node myLeaf = leaf[ThreadID % leaf.length];\n",
    "        Node node = myLeaf;\n",
    "        // precombining phase\n",
    "        try{\n",
    "            while (node.precombine()) {\n",
    "                node = node.parent;\n",
    "            }\n",
    "        }catch(Exception e) {}\n",
    "        Node stop = node;\n",
    "        // combining phase\n",
    "        int combined = 1;\n",
    "        for (node = myLeaf; node != stop; node = node.parent) {\n",
    "            try{combined = node.combine(combined);} catch (Exception e){}\n",
    "            stack.push(node);\n",
    "        }\n",
    "        try{\n",
    "            // operation phase\n",
    "            int prior = stop.op(combined);\n",
    "            // distribution phase\n",
    "            while (!stack.empty()) {\n",
    "                node = stack.pop();\n",
    "                node.distribute(prior);\n",
    "            }\n",
    "            return prior;\n",
    "        }catch(Exception e){}\n",
    "        return 1;\n",
    "        \n",
    "    }\n",
    "    \n",
    "    public int get() {\n",
    "        return nodes[0].result;\n",
    "    }\n",
    "}"
   ]
  },
  {
   "cell_type": "code",
   "execution_count": 57,
   "metadata": {},
   "outputs": [
    {
     "name": "stdout",
     "output_type": "stream",
     "text": [
      "Overwriting TestCombiningTree.java\n"
     ]
    }
   ],
   "source": [
    "%%writefile TestCombiningTree.java\n",
    "import java.util.*;\n",
    "\n",
    "class TestCombiningTree {\n",
    "    static CombiningTree tree;\n",
    "    static int TH = 12, NUM = 100;\n",
    "    static int width;\n",
    "    // tree: combining tree where threads do increment ops\n",
    "    // TH: number of threads\n",
    "    // NUM: number of increment ops each thread performs\n",
    "\n",
    "    static Thread thread(int id) {\n",
    "        return new Thread(() -> {\n",
    "            long start = System.currentTimeMillis();\n",
    "            for (int i=0; i<NUM; i++) {\n",
    "                Integer r = tree.getAndIncrement();\n",
    "                Thread.yield();\n",
    "            }\n",
    "            long stop = System.currentTimeMillis();\n",
    "            log(id()+\": done in \"+(stop-start)+\"ms\");\n",
    "        });\n",
    "    }\n",
    "\n",
    "    // Setup the combining tree for threads.\n",
    "    static void setupTree() {\n",
    "        width = (int) Math.ceil(TH/2);\n",
    "        tree = new CombiningTree(width);\n",
    "    }\n",
    "\n",
    "\n",
    "    // Start threads doing increments using tree.\n",
    "    static Thread[] startOps() {\n",
    "        Thread[] t = new Thread[TH];\n",
    "        for (int i=0; i<TH; i++)\n",
    "          t[i] = thread(i);\n",
    "        for (int i=0; i<TH; i++)\n",
    "          t[i].start();\n",
    "        return t;\n",
    "    }\n",
    "\n",
    "    // Wait until all threads done with increments.\n",
    "    static void awaitOps(Thread[] t) {\n",
    "        try {\n",
    "        for (int i=0; i<TH; i++)\n",
    "          t[i].join();\n",
    "        } catch (InterruptedException e) {}\n",
    "    }\n",
    "\n",
    "    public static void main(String[] args) {\n",
    "        setupTree();\n",
    "        log( width +\"-leaves Combining tree.\");\n",
    "        log(\"Starting \"+ TH +\" threads doing increments ...\");\n",
    "        long start = System.currentTimeMillis();\n",
    "        Thread[] t = startOps();\n",
    "        awaitOps(t);\n",
    "        long stop = System.currentTimeMillis();\n",
    "        log(\"Total: \"+tree.get());\n",
    "        log(\"Total time: \"+(stop-start)+\"ms\");\n",
    "    }\n",
    "\n",
    "    static void log(String x) {\n",
    "        System.out.println(x);\n",
    "    }\n",
    "\n",
    "    static long id() {\n",
    "        return Thread.currentThread().getId();\n",
    "    }\n",
    "}"
   ]
  },
  {
   "cell_type": "code",
   "execution_count": 58,
   "metadata": {},
   "outputs": [],
   "source": [
    "!javac TestCombiningTree.java"
   ]
  },
  {
   "cell_type": "code",
   "execution_count": 59,
   "metadata": {},
   "outputs": [
    {
     "name": "stdout",
     "output_type": "stream",
     "text": [
      "6-width Combining tree.\n",
      "Starting 12 threads doing increments ...\n",
      "17: done in 7ms\n",
      "21: done in 8ms\n",
      "15: done in 8ms\n",
      "22: done in 6ms\n",
      "24: done in 7ms\n",
      "25: done in 9ms\n",
      "14: done in 8ms\n",
      "19: done in 9ms\n",
      "16: done in 6ms\n",
      "20: done in 9ms\n",
      "23: done in 6ms\n",
      "18: done in 8ms\n",
      "Total: 1200\n",
      "Total time: 17ms\n"
     ]
    }
   ],
   "source": [
    "!java -ea TestCombiningTree"
   ]
  },
  {
   "cell_type": "markdown",
   "metadata": {},
   "source": [
    "The possible values for the combining status, and their associated meanings,\n",
    "are:\n",
    "- IDLE: This node is not in use.\n",
    "- FIRST: One active thread has visited this node, and will return to check whether\n",
    "another passive thread has left a value with which to combine.\n",
    "- SECOND: A second thread has visited this node and stored a value in the node’s\n",
    "value field to be combined with the active thread’s value, but the combined operation\n",
    "is not yet complete.\n",
    "- RESULT: Both threads’ operations have been combined and completed, and the\n",
    "second thread’s result has been stored in the node’s result field.\n",
    "- ROOT: This value is a special case to indicate that the node is the root, and must be\n",
    "treated specially."
   ]
  },
  {
   "cell_type": "markdown",
   "metadata": {},
   "source": [
    "The concurrent traversal of a width 8 combining tree by five threads.\n",
    "\n",
    "<img src=\"images/combining-tree-execution.png\" width=700 />"
   ]
  },
  {
   "cell_type": "markdown",
   "metadata": {},
   "source": [
    "### Counting networks\n",
    "\n",
    "\n",
    "- A balancing network is ***quiescent*** if every token that arrived on an input wire has emerged on an output wire: $$ \\sum x_i = \\sum y_i $$\n",
    "\n",
    "- step property: In general, if $$ n = \\sum x_i $$ then, when the network is quiescent, $$ y_i = \\lceil (n-i)/w\\rceil$$\n",
    "\n"
   ]
  },
  {
   "cell_type": "markdown",
   "metadata": {},
   "source": [
    "### Bitonic counting network"
   ]
  },
  {
   "cell_type": "code",
   "execution_count": null,
   "metadata": {},
   "outputs": [],
   "source": [
    "%%writefile Balancer.java\n",
    "public class Balancer {\n",
    "    boolean toggle = true;\n",
    "    public synchronized int traverse() {\n",
    "        try {\n",
    "            if (toggle) {\n",
    "            return 0;\n",
    "            } else {\n",
    "            return 1;\n",
    "            }\n",
    "        } finally {\n",
    "            toggle = !toggle;\n",
    "        }\n",
    "    }\n",
    "}"
   ]
  },
  {
   "cell_type": "code",
   "execution_count": null,
   "metadata": {},
   "outputs": [],
   "source": [
    "%%writefile Merger.java\n",
    "public class Merger {\n",
    "    Merger[] half; // two half-width merger networks\n",
    "    Balancer[] layer; // final layer\n",
    "    final int width;\n",
    "    public Merger(int myWidth) {\n",
    "        width = myWidth;\n",
    "        layer = new Balancer[width / 2];\n",
    "        for (int i = 0; i < width / 2; i++) {\n",
    "            layer[i] = new Balancer();\n",
    "        }\n",
    "        if (width > 2) {\n",
    "            half = new Merger[]{new Merger(width/2), new Merger(width/2)};\n",
    "        }\n",
    "    }\n",
    "    public int traverse(int input) {\n",
    "        int output = 0;\n",
    "        if (input < width / 2) {\n",
    "            output = half[input % 2].traverse(input / 2);\n",
    "        } else {\n",
    "            output = half[1 - (input % 2)].traverse(input / 2);\n",
    "        }\n",
    "        return (2 * output) + layer[output].traverse();\n",
    "    }\n",
    "}"
   ]
  },
  {
   "cell_type": "code",
   "execution_count": 60,
   "metadata": {},
   "outputs": [
    {
     "name": "stdout",
     "output_type": "stream",
     "text": [
      "Overwriting Bitonic.java\n"
     ]
    }
   ],
   "source": [
    "%%writefile Bitonic.java\n",
    "public class Bitonic {\n",
    "    Bitonic[] half; // two half-width bitonic networks\n",
    "    Merger merger; // final merger layer\n",
    "    final int width; // network width\n",
    "    public Bitonic(int myWidth) {\n",
    "        width = myWidth;\n",
    "        merger = new Merger(width);\n",
    "        if (width > 2) {\n",
    "            half = new Bitonic[]{new Bitonic(width/2), new Bitonic(width/2)};\n",
    "        }\n",
    "    }\n",
    "    public int traverse(int input) {\n",
    "        int output = 0;\n",
    "        int subnet = input / (width / 2);\n",
    "        if (width > 2) {\n",
    "            output = half[subnet].traverse(input - subnet * (width / 2));\n",
    "        }\n",
    "        return merger.traverse(output + subnet * (width / 2));\n",
    "    }\n",
    "}"
   ]
  },
  {
   "cell_type": "code",
   "execution_count": 61,
   "metadata": {},
   "outputs": [
    {
     "name": "stderr",
     "output_type": "stream",
     "text": [
      "UsageError: %%writefile is a cell magic, but the cell body is empty.\n"
     ]
    }
   ],
   "source": [
    "%%writefile Test.java\n",
    "\n",
    "import java.util.*;\n",
    "\n",
    "public class Test {\n",
    "    static Thread thread(int id) {\n",
    "        return new Thread(() -> {\n",
    "            long start = System.currentTimeMillis();\n",
    "            for (int i=0; i<NUM; i++) {\n",
    "                Integer r = tree.getAndIncrement();\n",
    "                Thread.yield();\n",
    "            }\n",
    "            long stop = System.currentTimeMillis();\n",
    "            log(id()+\": done in \"+(stop-start)+\"ms\");\n",
    "        });\n",
    "    }\n",
    "    \n",
    "    \n",
    "    public static void main() {\n",
    "        int width = 4;\n",
    "        Bitonic bitonic = new Bitonic(width);\n",
    "        int[] counters = new int[width];\n",
    "        \n",
    "        int tokenCount = 1000;\n",
    "        int[] tokens = new int[toeknCount];\n",
    "        \n",
    "        \n",
    "        \n",
    "        \n",
    "        \n",
    "    }\n",
    "}"
   ]
  },
  {
   "cell_type": "code",
   "execution_count": null,
   "metadata": {},
   "outputs": [],
   "source": []
  },
  {
   "cell_type": "markdown",
   "metadata": {},
   "source": [
    "### Diffracting trees\n",
    "\n",
    "Design a logarithmic-depth counting network instead of the most shallow depth above $\\Theta (log^2 w)$"
   ]
  },
  {
   "cell_type": "code",
   "execution_count": null,
   "metadata": {},
   "outputs": [],
   "source": [
    "%%writefile Prism.java\n",
    "public class Prism {\n",
    "    private static final int duration = 100;\n",
    "    Exchanger<Integer>[] exchanger;\n",
    "    public Prism(int capacity) {\n",
    "        exchanger = (Exchanger<Integer>[]) new Exchanger[capacity];\n",
    "        for (int i = 0; i < capacity; i++) {\n",
    "            exchanger[i] = new Exchanger<Integer>();\n",
    "        }\n",
    "    }\n",
    "    public boolean visit() throws TimeoutException,InterruptedException {\n",
    "        int me = ThreadID.get();\n",
    "        int slot = ThreadLocalRandom.current().nextInt(exchanger.length);\n",
    "        int other = exchanger[slot].exchange(me,duration,TimeUnit.MILLISECONDS);\n",
    "        return (me < other);\n",
    "    }\n",
    "}"
   ]
  },
  {
   "cell_type": "code",
   "execution_count": null,
   "metadata": {},
   "outputs": [],
   "source": [
    "%%writefile DiffractingBalancer.java\n",
    "public class DiffractingBalancer {\n",
    "    Prism prism;\n",
    "    Balancer toggle;\n",
    "    public DiffractingBalancer(int capacity) {\n",
    "        prism = new Prism(capacity);\n",
    "        toggle = new Balancer();\n",
    "    }\n",
    "    public int traverse() {\n",
    "        boolean direction = false;\n",
    "        try{\n",
    "            if (prism.visit())\n",
    "                return 0;\n",
    "            else\n",
    "                return 1;\n",
    "        } catch(TimeoutException ex) {\n",
    "            return toggle.traverse();\n",
    "        }\n",
    "    }\n",
    "}"
   ]
  },
  {
   "cell_type": "code",
   "execution_count": null,
   "metadata": {},
   "outputs": [],
   "source": [
    "%%writefile DiffractingTree.java\n",
    "public class DiffractingTree {\n",
    "    DiffractingBalancer root;\n",
    "    DiffractingTree[] child;\n",
    "    int size;\n",
    "    public DiffractingTree(int mySize) {\n",
    "        size = mySize;\n",
    "        root = new DiffractingBalancer(size);\n",
    "        if (size > 2) {\n",
    "            child = new DiffractingTree[]{\n",
    "                new DiffractingTree(size/2),\n",
    "                new DiffractingTree(size/2)};\n",
    "        }\n",
    "    }\n",
    "    public int traverse() {\n",
    "        int half = root.traverse();\n",
    "        if (size > 2) {\n",
    "            return (2 * (child[half].traverse()) + half);\n",
    "        } else {\n",
    "            return half;\n",
    "        }\n",
    "    }\n",
    "}"
   ]
  },
  {
   "cell_type": "markdown",
   "metadata": {},
   "source": [
    "## Parallel sorting\n"
   ]
  },
  {
   "cell_type": "markdown",
   "metadata": {},
   "source": [
    "### Sorting network\n",
    "- A bitonic sorting algorithm"
   ]
  },
  {
   "cell_type": "code",
   "execution_count": null,
   "metadata": {},
   "outputs": [],
   "source": [
    "%%writefile BitonicSort.java\n",
    "public class BitonicSort {\n",
    "    static final int[][][] bitonicTable = ...;\n",
    "    static final int width = ...; // counting network width\n",
    "    static final int depth = ...; // counting network depth\n",
    "    static final int p = ...; // number of threads\n",
    "    static final int s = ...; // a power of 2\n",
    "    Barrier barrier;\n",
    "    ...\n",
    "    public void sort(int[] items) {\n",
    "        int i = ThreadID.get();\n",
    "        for (int d = 0; d < depth; d++) {\n",
    "            barrier.await();\n",
    "            for (int j = 0; j < s; j++) {\n",
    "                int north = bitonicTable[(i*s)+j][d][0];\n",
    "                int south = bitonicTable[(i*s)+j][d][1];\n",
    "                if (items[north].key < items[south].key) {\n",
    "                    Item<T> temp = items[north];\n",
    "                    items[north] = items[south];\n",
    "                    items[south] = temp;\n",
    "                }\n",
    "            }\n",
    "        }\n",
    "    }\n",
    "}"
   ]
  },
  {
   "cell_type": "markdown",
   "metadata": {},
   "source": [
    "- Sample sorting"
   ]
  },
  {
   "cell_type": "code",
   "execution_count": null,
   "metadata": {},
   "outputs": [],
   "source": []
  }
 ],
 "metadata": {
  "kernelspec": {
   "display_name": "Python 3",
   "language": "python",
   "name": "python3"
  },
  "language_info": {
   "codemirror_mode": {
    "name": "ipython",
    "version": 3
   },
   "file_extension": ".py",
   "mimetype": "text/x-python",
   "name": "python",
   "nbconvert_exporter": "python",
   "pygments_lexer": "ipython3",
   "version": "3.8.5"
  }
 },
 "nbformat": 4,
 "nbformat_minor": 4
}
